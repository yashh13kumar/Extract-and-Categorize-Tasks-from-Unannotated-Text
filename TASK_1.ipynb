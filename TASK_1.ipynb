{
  "nbformat": 4,
  "nbformat_minor": 0,
  "metadata": {
    "colab": {
      "provenance": []
    },
    "kernelspec": {
      "name": "python3",
      "display_name": "Python 3"
    },
    "language_info": {
      "name": "python"
    }
  },
  "cells": [
    {
      "cell_type": "code",
      "execution_count": 22,
      "metadata": {
        "id": "dL3tGHs5vdTy"
      },
      "outputs": [],
      "source": [
        "import spacy\n",
        "import re\n",
        "import json\n",
        "from collections import defaultdict"
      ]
    },
    {
      "cell_type": "code",
      "source": [
        "# Load spaCy English model\n",
        "nlp = spacy.load(\"en_core_web_sm\")\n"
      ],
      "metadata": {
        "id": "iIP_WAJs1kBo"
      },
      "execution_count": 23,
      "outputs": []
    },
    {
      "cell_type": "code",
      "source": [
        "# Task-related phrases\n",
        "TASK_KEYWORDS = [\n",
        "    \"has to\", \"needs to\", \"should\", \"must\", \"is required to\", \"is expected to\",\n",
        "    \"is supposed to\", \"is scheduled to\", \"is assigned to\"\n",
        "]"
      ],
      "metadata": {
        "id": "Giz2zIsX1lB9"
      },
      "execution_count": 24,
      "outputs": []
    },
    {
      "cell_type": "code",
      "source": [
        "# Deadline patterns\n",
        "TIME_PATTERNS = [\n",
        "    r'by \\d{1,2}\\s*(am|pm)?',  # Matches \"by 5 pm\" or \"by 7\"\n",
        "    r'before \\w+',  # Matches \"before tomorrow\"\n",
        "    r'tomorrow',  # Matches \"tomorrow\"\n",
        "    r'today',  # Matches \"today\"\n",
        "    r'in \\d+ \\w+',  # Matches \"in 3 hours\"\n",
        "    r'by end of the day',  # Matches \"by end of the day\"\n",
        "    r'within \\d+ (hours|days|minutes)'  # Matches \"within 3 hours\"\n",
        "]"
      ],
      "metadata": {
        "id": "simvFRb11nlc"
      },
      "execution_count": 25,
      "outputs": []
    },
    {
      "cell_type": "code",
      "source": [
        "# Categorization keywords\n",
        "TASK_CATEGORIES = {\n",
        "    \"Personal\": [\"buy\", \"get\", \"shop\", \"visit\"],\n",
        "    \"Academic\": [\"submit\", \"study\", \"complete\", \"assignment\", \"exam\", \"project\"],\n",
        "    \"Work\": [\"send\", \"email\", \"call\", \"schedule\", \"meeting\", \"review\"],\n",
        "    \"Household\": [\"clean\", \"wash\", \"cook\", \"arrange\", \"fix\"],\n",
        "    \"Health\": [\"exercise\", \"run\", \"walk\", \"meditate\"],\n",
        "    \"Finance\": [\"pay\", \"invest\", \"deposit\", \"withdraw\", \"budget\"]\n",
        "}"
      ],
      "metadata": {
        "id": "JvlCcTIY10p8"
      },
      "execution_count": 26,
      "outputs": []
    },
    {
      "cell_type": "code",
      "source": [
        "def extract_and_categorize_pipeline(text):\n",
        "\n",
        "    doc = nlp(text)\n",
        "    extracted_tasks = []\n",
        "\n",
        "    for sent in doc.sents:\n",
        "        sentence = sent.text.strip()\n",
        "        sentence_lower = sentence.lower()\n",
        "\n",
        "        if any(keyword in sentence_lower for keyword in TASK_KEYWORDS):\n",
        "            task = {\"who\": \"Unknown\", \"task\": None, \"deadline\": None, \"category\": \"Uncategorized\"}\n",
        "\n",
        "            # Extract subject (who is assigned the task)\n",
        "            subjects = [token.text for token in sent if token.dep_ in {\"nsubj\", \"nsubjpass\"} and token.pos_ in {\"PROPN\", \"PRON\"}]\n",
        "            if subjects:\n",
        "                task[\"who\"] = subjects[0]  # Take the first detected subject\n",
        "\n",
        "            # Extract task description\n",
        "            for keyword in TASK_KEYWORDS:\n",
        "                if keyword in sentence_lower:\n",
        "                    task_start = sentence_lower.find(keyword) + len(keyword)\n",
        "                    task_text = sentence[task_start:].strip()\n",
        "                    task[\"task\"] = re.sub(r'\\bby \\d{1,2}\\s*(am|pm)?\\b', '', task_text).strip()\n",
        "                    break\n",
        "\n",
        "            # Extract deadline\n",
        "            for pattern in TIME_PATTERNS:\n",
        "                match = re.search(pattern, sentence_lower)\n",
        "                if match:\n",
        "                    task[\"deadline\"] = match.group().strip()\n",
        "                    break\n",
        "\n",
        "            # Categorize task\n",
        "            for category, keywords in TASK_CATEGORIES.items():\n",
        "                if any(word in sentence_lower for word in keywords):\n",
        "                    task[\"category\"] = category\n",
        "                    break\n",
        "\n",
        "            if task[\"task\"]:\n",
        "                extracted_tasks.append(task)\n",
        "\n",
        "    return extracted_tasks\n"
      ],
      "metadata": {
        "id": "bSvmnfJfUigw"
      },
      "execution_count": 27,
      "outputs": []
    },
    {
      "cell_type": "code",
      "source": [
        "def format_output(tasks):\n",
        "\n",
        "    return json.dumps(tasks, indent=4)\n"
      ],
      "metadata": {
        "id": "g1EeDiCNVsQ1"
      },
      "execution_count": 28,
      "outputs": []
    },
    {
      "cell_type": "code",
      "source": [
        "# Test Cases\n",
        "test_texts = [\n",
        "    \"Rahul wakes up early every day. He goes to college in the morning and comes back at 3 pm. At present, Rahul is outside. He has to buy the snacks for all of us. He also needs to submit his assignment by 5 pm.\",\n",
        "    \"John should complete the project before Friday. Alice must send the email by 10 am tomorrow. They have to attend the meeting at 2 pm.\",\n",
        "    \"David is required to pay the electricity bill today. Sarah needs to visit the dentist by the end of the day. James should invest in stocks next month.\",\n",
        "    \"Maya has to clean the kitchen by 6 pm. Adam is supposed to arrange the books in the library. Tom needs to exercise in the morning.\"\n",
        "]\n",
        "\n",
        "# Run NLP pipeline\n",
        "for idx, text in enumerate(test_texts, 1):\n",
        "    print(f\"\\nTest Case {idx}:\")\n",
        "    extracted_tasks = extract_and_categorize_pipeline(text)\n",
        "    print(format_output(extracted_tasks))\n"
      ],
      "metadata": {
        "colab": {
          "base_uri": "https://localhost:8080/"
        },
        "id": "r2t3ZrE4VvU7",
        "outputId": "a02b1ed1-c180-4724-d3b1-dbe402b9e0e7"
      },
      "execution_count": 29,
      "outputs": [
        {
          "output_type": "stream",
          "name": "stdout",
          "text": [
            "\n",
            "Test Case 1:\n",
            "[\n",
            "    {\n",
            "        \"who\": \"He\",\n",
            "        \"task\": \"buy the snacks for all of us.\",\n",
            "        \"deadline\": null,\n",
            "        \"category\": \"Personal\"\n",
            "    },\n",
            "    {\n",
            "        \"who\": \"He\",\n",
            "        \"task\": \"submit his assignment .\",\n",
            "        \"deadline\": \"by 5 pm\",\n",
            "        \"category\": \"Academic\"\n",
            "    }\n",
            "]\n",
            "\n",
            "Test Case 2:\n",
            "[\n",
            "    {\n",
            "        \"who\": \"John\",\n",
            "        \"task\": \"complete the project before Friday.\",\n",
            "        \"deadline\": \"before friday\",\n",
            "        \"category\": \"Academic\"\n",
            "    },\n",
            "    {\n",
            "        \"who\": \"Alice\",\n",
            "        \"task\": \"send the email  tomorrow.\",\n",
            "        \"deadline\": \"by 10 am\",\n",
            "        \"category\": \"Work\"\n",
            "    }\n",
            "]\n",
            "\n",
            "Test Case 3:\n",
            "[\n",
            "    {\n",
            "        \"who\": \"David\",\n",
            "        \"task\": \"pay the electricity bill today.\",\n",
            "        \"deadline\": \"today\",\n",
            "        \"category\": \"Finance\"\n",
            "    },\n",
            "    {\n",
            "        \"who\": \"Sarah\",\n",
            "        \"task\": \"visit the dentist by the end of the day.\",\n",
            "        \"deadline\": null,\n",
            "        \"category\": \"Personal\"\n",
            "    },\n",
            "    {\n",
            "        \"who\": \"James\",\n",
            "        \"task\": \"invest in stocks next month.\",\n",
            "        \"deadline\": null,\n",
            "        \"category\": \"Finance\"\n",
            "    }\n",
            "]\n",
            "\n",
            "Test Case 4:\n",
            "[\n",
            "    {\n",
            "        \"who\": \"Maya\",\n",
            "        \"task\": \"clean the kitchen .\",\n",
            "        \"deadline\": \"by 6 pm\",\n",
            "        \"category\": \"Household\"\n",
            "    },\n",
            "    {\n",
            "        \"who\": \"Adam\",\n",
            "        \"task\": \"arrange the books in the library.\",\n",
            "        \"deadline\": null,\n",
            "        \"category\": \"Household\"\n",
            "    },\n",
            "    {\n",
            "        \"who\": \"Tom\",\n",
            "        \"task\": \"exercise in the morning.\",\n",
            "        \"deadline\": null,\n",
            "        \"category\": \"Health\"\n",
            "    }\n",
            "]\n"
          ]
        }
      ]
    },
    {
      "cell_type": "code",
      "source": [],
      "metadata": {
        "id": "g7yW55iP2QDi"
      },
      "execution_count": 29,
      "outputs": []
    }
  ]
}